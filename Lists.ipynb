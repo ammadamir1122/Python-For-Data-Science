{
  "nbformat": 4,
  "nbformat_minor": 0,
  "metadata": {
    "colab": {
      "name": "Lists.ipynb",
      "provenance": [],
      "authorship_tag": "ABX9TyOi8irAiiDJaNL60wQPBpz+",
      "include_colab_link": true
    },
    "kernelspec": {
      "name": "python3",
      "display_name": "Python 3"
    },
    "language_info": {
      "name": "python"
    }
  },
  "cells": [
    {
      "cell_type": "markdown",
      "metadata": {
        "id": "view-in-github",
        "colab_type": "text"
      },
      "source": [
        "<a href=\"https://colab.research.google.com/github/ammadamir1122/Python-For-Data-Science/blob/main/Lists.ipynb\" target=\"_parent\"><img src=\"https://colab.research.google.com/assets/colab-badge.svg\" alt=\"Open In Colab\"/></a>"
      ]
    },
    {
      "cell_type": "code",
      "metadata": {
        "id": "SYPH7f0tWaD6"
      },
      "source": [
        "primes = [2, 3, 5, 7]\n"
      ],
      "execution_count": 1,
      "outputs": []
    },
    {
      "cell_type": "code",
      "metadata": {
        "id": "V50T8UqHWhNv"
      },
      "source": [
        "planets = ['Mercury', 'Venus', 'Earth', 'Mars', 'Jupiter', 'Saturn', 'Uranus', 'Neptune']\n"
      ],
      "execution_count": 2,
      "outputs": []
    },
    {
      "cell_type": "code",
      "metadata": {
        "id": "6Kw-TO_vWkSF"
      },
      "source": [
        "hands = [\n",
        "    ['J', 'Q', 'K'],\n",
        "    ['2', '2', '2'],\n",
        "    ['6', 'A', 'K'], # (Comma after the last element is optional)\n",
        "]\n",
        "# (I could also have written this on one line, but it can get hard to read)\n",
        "hands = [['J', 'Q', 'K'], ['2', '2', '2'], ['6', 'A', 'K']]"
      ],
      "execution_count": 3,
      "outputs": []
    },
    {
      "cell_type": "code",
      "metadata": {
        "id": "zalK1HHLWpfQ"
      },
      "source": [
        "my_favourite_things = [32, 'raindrops on roses', help]\n",
        "# (Yes, Python's help function is *definitely* one of my favourite things)"
      ],
      "execution_count": 4,
      "outputs": []
    },
    {
      "cell_type": "code",
      "metadata": {
        "colab": {
          "base_uri": "https://localhost:8080/",
          "height": 35
        },
        "id": "BmSF5q7iWueW",
        "outputId": "28cd6913-50a5-40d8-fcbd-3744bf182b11"
      },
      "source": [
        "planets[0]\n"
      ],
      "execution_count": 5,
      "outputs": [
        {
          "output_type": "execute_result",
          "data": {
            "application/vnd.google.colaboratory.intrinsic+json": {
              "type": "string"
            },
            "text/plain": [
              "'Mercury'"
            ]
          },
          "metadata": {},
          "execution_count": 5
        }
      ]
    },
    {
      "cell_type": "code",
      "metadata": {
        "colab": {
          "base_uri": "https://localhost:8080/",
          "height": 35
        },
        "id": "3YllwN4WWz81",
        "outputId": "1a1a5ce4-d504-4547-bf98-33f1e41535df"
      },
      "source": [
        "planets[1]"
      ],
      "execution_count": 6,
      "outputs": [
        {
          "output_type": "execute_result",
          "data": {
            "application/vnd.google.colaboratory.intrinsic+json": {
              "type": "string"
            },
            "text/plain": [
              "'Venus'"
            ]
          },
          "metadata": {},
          "execution_count": 6
        }
      ]
    },
    {
      "cell_type": "code",
      "metadata": {
        "colab": {
          "base_uri": "https://localhost:8080/",
          "height": 35
        },
        "id": "_Yh-_s-7W2yU",
        "outputId": "1ed5641b-0181-477f-9f18-20f1733b338d"
      },
      "source": [
        "planets[-1]\n"
      ],
      "execution_count": 7,
      "outputs": [
        {
          "output_type": "execute_result",
          "data": {
            "application/vnd.google.colaboratory.intrinsic+json": {
              "type": "string"
            },
            "text/plain": [
              "'Neptune'"
            ]
          },
          "metadata": {},
          "execution_count": 7
        }
      ]
    },
    {
      "cell_type": "code",
      "metadata": {
        "colab": {
          "base_uri": "https://localhost:8080/",
          "height": 35
        },
        "id": "L72zOSSsW7AG",
        "outputId": "465540c0-b32d-4318-cad1-c33cf8406c40"
      },
      "source": [
        "planets[-2]\n"
      ],
      "execution_count": 8,
      "outputs": [
        {
          "output_type": "execute_result",
          "data": {
            "application/vnd.google.colaboratory.intrinsic+json": {
              "type": "string"
            },
            "text/plain": [
              "'Uranus'"
            ]
          },
          "metadata": {},
          "execution_count": 8
        }
      ]
    },
    {
      "cell_type": "code",
      "metadata": {
        "colab": {
          "base_uri": "https://localhost:8080/"
        },
        "id": "4AUF2d0pW-4i",
        "outputId": "71945080-a11f-4ff6-964c-ff46291b001d"
      },
      "source": [
        "# Slicing\n",
        "planets[0:3]\n"
      ],
      "execution_count": 9,
      "outputs": [
        {
          "output_type": "execute_result",
          "data": {
            "text/plain": [
              "['Mercury', 'Venus', 'Earth']"
            ]
          },
          "metadata": {},
          "execution_count": 9
        }
      ]
    },
    {
      "cell_type": "code",
      "metadata": {
        "colab": {
          "base_uri": "https://localhost:8080/"
        },
        "id": "URb3iLVDXGK9",
        "outputId": "51f51937-48c0-481c-e8f0-b3cc426b43f7"
      },
      "source": [
        "planets[:3]"
      ],
      "execution_count": 10,
      "outputs": [
        {
          "output_type": "execute_result",
          "data": {
            "text/plain": [
              "['Mercury', 'Venus', 'Earth']"
            ]
          },
          "metadata": {},
          "execution_count": 10
        }
      ]
    },
    {
      "cell_type": "code",
      "metadata": {
        "colab": {
          "base_uri": "https://localhost:8080/"
        },
        "id": "5H4JW5hTXIo9",
        "outputId": "d6ad50d1-17bd-46d2-ee5e-cb200a059ca5"
      },
      "source": [
        "planets[3:]\n"
      ],
      "execution_count": 11,
      "outputs": [
        {
          "output_type": "execute_result",
          "data": {
            "text/plain": [
              "['Mars', 'Jupiter', 'Saturn', 'Uranus', 'Neptune']"
            ]
          },
          "metadata": {},
          "execution_count": 11
        }
      ]
    },
    {
      "cell_type": "code",
      "metadata": {
        "colab": {
          "base_uri": "https://localhost:8080/"
        },
        "id": "eZkeqrh1XLQq",
        "outputId": "5bd2507f-cf31-46ce-dc86-acc97d1a93a2"
      },
      "source": [
        "# All the planets except the first and last\n",
        "planets[1:-1]"
      ],
      "execution_count": 12,
      "outputs": [
        {
          "output_type": "execute_result",
          "data": {
            "text/plain": [
              "['Venus', 'Earth', 'Mars', 'Jupiter', 'Saturn', 'Uranus']"
            ]
          },
          "metadata": {},
          "execution_count": 12
        }
      ]
    },
    {
      "cell_type": "code",
      "metadata": {
        "colab": {
          "base_uri": "https://localhost:8080/"
        },
        "id": "AvfHBo1NXPAb",
        "outputId": "93400e70-3fab-4302-b629-470f59d3dbea"
      },
      "source": [
        "# The last 3 planets\n",
        "planets[-3:]"
      ],
      "execution_count": 13,
      "outputs": [
        {
          "output_type": "execute_result",
          "data": {
            "text/plain": [
              "['Saturn', 'Uranus', 'Neptune']"
            ]
          },
          "metadata": {},
          "execution_count": 13
        }
      ]
    },
    {
      "cell_type": "code",
      "metadata": {
        "colab": {
          "base_uri": "https://localhost:8080/"
        },
        "id": "1NVLNzGcXRYM",
        "outputId": "0e2d7db2-6822-42a3-d2c1-41541b423c4d"
      },
      "source": [
        "# Changing lists\n",
        "planets[3] = 'Malacandra'\n",
        "planets"
      ],
      "execution_count": 14,
      "outputs": [
        {
          "output_type": "execute_result",
          "data": {
            "text/plain": [
              "['Mercury',\n",
              " 'Venus',\n",
              " 'Earth',\n",
              " 'Malacandra',\n",
              " 'Jupiter',\n",
              " 'Saturn',\n",
              " 'Uranus',\n",
              " 'Neptune']"
            ]
          },
          "metadata": {},
          "execution_count": 14
        }
      ]
    },
    {
      "cell_type": "code",
      "metadata": {
        "colab": {
          "base_uri": "https://localhost:8080/"
        },
        "id": "NZ6aX9bZXZS8",
        "outputId": "92f11157-b646-4391-8e4a-2026765e3e65"
      },
      "source": [
        "planets[:3] = ['Mur', 'Vee', 'Ur']\n",
        "print(planets)\n",
        "# That was silly. Let's give them back their old names\n",
        "planets[:4] = ['Mercury', 'Venus', 'Earth', 'Mars',]"
      ],
      "execution_count": 15,
      "outputs": [
        {
          "output_type": "stream",
          "name": "stdout",
          "text": [
            "['Mur', 'Vee', 'Ur', 'Malacandra', 'Jupiter', 'Saturn', 'Uranus', 'Neptune']\n"
          ]
        }
      ]
    },
    {
      "cell_type": "code",
      "metadata": {
        "colab": {
          "base_uri": "https://localhost:8080/"
        },
        "id": "DbzZGbSiXd11",
        "outputId": "9ccbbc66-b2e6-46ad-d2e4-f8d9b6d82f49"
      },
      "source": [
        "len(planets)"
      ],
      "execution_count": 16,
      "outputs": [
        {
          "output_type": "execute_result",
          "data": {
            "text/plain": [
              "8"
            ]
          },
          "metadata": {},
          "execution_count": 16
        }
      ]
    },
    {
      "cell_type": "code",
      "metadata": {
        "colab": {
          "base_uri": "https://localhost:8080/"
        },
        "id": "SowLwSq7Xghi",
        "outputId": "eeaab57e-f10a-4133-9171-d9b113944b83"
      },
      "source": [
        "# The planets sorted in alphabetical order\n",
        "sorted(planets)"
      ],
      "execution_count": 17,
      "outputs": [
        {
          "output_type": "execute_result",
          "data": {
            "text/plain": [
              "['Earth', 'Jupiter', 'Mars', 'Mercury', 'Neptune', 'Saturn', 'Uranus', 'Venus']"
            ]
          },
          "metadata": {},
          "execution_count": 17
        }
      ]
    },
    {
      "cell_type": "code",
      "metadata": {
        "colab": {
          "base_uri": "https://localhost:8080/"
        },
        "id": "3UU-Ofy7XirA",
        "outputId": "943e3ee0-aa15-4a92-aa29-480e031cf1f8"
      },
      "source": [
        "primes = [2, 3, 5, 7]\n",
        "sum(primes)"
      ],
      "execution_count": 18,
      "outputs": [
        {
          "output_type": "execute_result",
          "data": {
            "text/plain": [
              "17"
            ]
          },
          "metadata": {},
          "execution_count": 18
        }
      ]
    },
    {
      "cell_type": "code",
      "metadata": {
        "colab": {
          "base_uri": "https://localhost:8080/"
        },
        "id": "Usp5MabvXlzB",
        "outputId": "1ce5148d-653c-423c-9ab3-87655234140a"
      },
      "source": [
        "max(primes)"
      ],
      "execution_count": 19,
      "outputs": [
        {
          "output_type": "execute_result",
          "data": {
            "text/plain": [
              "7"
            ]
          },
          "metadata": {},
          "execution_count": 19
        }
      ]
    },
    {
      "cell_type": "code",
      "metadata": {
        "colab": {
          "base_uri": "https://localhost:8080/"
        },
        "id": "WY5qUY75XoNl",
        "outputId": "f48f80a7-095a-412d-e506-172bc41428be"
      },
      "source": [
        "# Interlude: objects\n",
        "x = 12\n",
        "# x is a real number, so its imaginary part is 0.\n",
        "print(x.imag)\n",
        "# Here's how to make a complex number, in case you've ever been curious:\n",
        "c = 12 + 3j\n",
        "print(c.imag)"
      ],
      "execution_count": 20,
      "outputs": [
        {
          "output_type": "stream",
          "name": "stdout",
          "text": [
            "0\n",
            "3.0\n"
          ]
        }
      ]
    },
    {
      "cell_type": "code",
      "metadata": {
        "colab": {
          "base_uri": "https://localhost:8080/"
        },
        "id": "2HA-hE8aX8ye",
        "outputId": "b85eb906-8ce2-4f47-9e0c-b2cb05f21ae5"
      },
      "source": [
        "x.bit_length\n"
      ],
      "execution_count": 21,
      "outputs": [
        {
          "output_type": "execute_result",
          "data": {
            "text/plain": [
              "<function int.bit_length>"
            ]
          },
          "metadata": {},
          "execution_count": 21
        }
      ]
    },
    {
      "cell_type": "code",
      "metadata": {
        "colab": {
          "base_uri": "https://localhost:8080/"
        },
        "id": "sjOhWBFxX_oX",
        "outputId": "df23e863-05cc-41f0-d9da-f8611a8ea24c"
      },
      "source": [
        "help(x.bit_length)"
      ],
      "execution_count": 22,
      "outputs": [
        {
          "output_type": "stream",
          "name": "stdout",
          "text": [
            "Help on built-in function bit_length:\n",
            "\n",
            "bit_length() method of builtins.int instance\n",
            "    Number of bits necessary to represent self in binary.\n",
            "    \n",
            "    >>> bin(37)\n",
            "    '0b100101'\n",
            "    >>> (37).bit_length()\n",
            "    6\n",
            "\n"
          ]
        }
      ]
    },
    {
      "cell_type": "code",
      "metadata": {
        "id": "DKxfRLIEYB9A"
      },
      "source": [
        "# List methods\n",
        "# Pluto is a planet darn it!\n",
        "planets.append('Pluto')"
      ],
      "execution_count": 23,
      "outputs": []
    },
    {
      "cell_type": "code",
      "metadata": {
        "colab": {
          "base_uri": "https://localhost:8080/"
        },
        "id": "O1eIN_ZaYHOs",
        "outputId": "eb95a7a2-c0d5-4623-a39d-c31797eed973"
      },
      "source": [
        "planets"
      ],
      "execution_count": 24,
      "outputs": [
        {
          "output_type": "execute_result",
          "data": {
            "text/plain": [
              "['Mercury',\n",
              " 'Venus',\n",
              " 'Earth',\n",
              " 'Mars',\n",
              " 'Jupiter',\n",
              " 'Saturn',\n",
              " 'Uranus',\n",
              " 'Neptune',\n",
              " 'Pluto']"
            ]
          },
          "metadata": {},
          "execution_count": 24
        }
      ]
    },
    {
      "cell_type": "code",
      "metadata": {
        "colab": {
          "base_uri": "https://localhost:8080/",
          "height": 35
        },
        "id": "77IdhxYZYKMD",
        "outputId": "4b70142c-54cd-454b-a1c3-cbfb4d4b4db0"
      },
      "source": [
        "planets.pop()"
      ],
      "execution_count": 25,
      "outputs": [
        {
          "output_type": "execute_result",
          "data": {
            "application/vnd.google.colaboratory.intrinsic+json": {
              "type": "string"
            },
            "text/plain": [
              "'Pluto'"
            ]
          },
          "metadata": {},
          "execution_count": 25
        }
      ]
    },
    {
      "cell_type": "code",
      "metadata": {
        "colab": {
          "base_uri": "https://localhost:8080/"
        },
        "id": "LcwREJGUYMuu",
        "outputId": "151ac22d-278b-43bb-eeae-1343b7583c9b"
      },
      "source": [
        "planets\n"
      ],
      "execution_count": 26,
      "outputs": [
        {
          "output_type": "execute_result",
          "data": {
            "text/plain": [
              "['Mercury', 'Venus', 'Earth', 'Mars', 'Jupiter', 'Saturn', 'Uranus', 'Neptune']"
            ]
          },
          "metadata": {},
          "execution_count": 26
        }
      ]
    },
    {
      "cell_type": "code",
      "metadata": {
        "colab": {
          "base_uri": "https://localhost:8080/"
        },
        "id": "8K2v2bcmYPZD",
        "outputId": "9c68f726-4f5f-4a58-9c7f-ecddf4f049b5"
      },
      "source": [
        "planets.index('Earth')"
      ],
      "execution_count": 27,
      "outputs": [
        {
          "output_type": "execute_result",
          "data": {
            "text/plain": [
              "2"
            ]
          },
          "metadata": {},
          "execution_count": 27
        }
      ]
    },
    {
      "cell_type": "code",
      "metadata": {
        "colab": {
          "base_uri": "https://localhost:8080/"
        },
        "id": "7OhJvlIMYR8w",
        "outputId": "b1a2b41b-9a50-4f85-994c-c02982d303d6"
      },
      "source": [
        "# Is Earth a planet?\n",
        "\"Earth\" in planets"
      ],
      "execution_count": 28,
      "outputs": [
        {
          "output_type": "execute_result",
          "data": {
            "text/plain": [
              "True"
            ]
          },
          "metadata": {},
          "execution_count": 28
        }
      ]
    },
    {
      "cell_type": "code",
      "metadata": {
        "colab": {
          "base_uri": "https://localhost:8080/"
        },
        "id": "04ubTJn5YWam",
        "outputId": "329fb9e7-7105-461b-8898-c8fe140b6475"
      },
      "source": [
        "# Is Calbefraques a planet?\n",
        "\"Calbefraques\" in planets"
      ],
      "execution_count": 29,
      "outputs": [
        {
          "output_type": "execute_result",
          "data": {
            "text/plain": [
              "False"
            ]
          },
          "metadata": {},
          "execution_count": 29
        }
      ]
    },
    {
      "cell_type": "code",
      "metadata": {
        "id": "BgSVEfZ4YYsY"
      },
      "source": [
        "# Tuples\n",
        "t = (1, 2, 3)"
      ],
      "execution_count": 30,
      "outputs": []
    },
    {
      "cell_type": "code",
      "metadata": {
        "colab": {
          "base_uri": "https://localhost:8080/"
        },
        "id": "GXiJb_HdYfOw",
        "outputId": "d812c80d-5eab-4527-f737-30f9c5155492"
      },
      "source": [
        "t = 1, 2, 3 # equivalent to above\n",
        "t"
      ],
      "execution_count": 31,
      "outputs": [
        {
          "output_type": "execute_result",
          "data": {
            "text/plain": [
              "(1, 2, 3)"
            ]
          },
          "metadata": {},
          "execution_count": 31
        }
      ]
    },
    {
      "cell_type": "code",
      "metadata": {
        "colab": {
          "base_uri": "https://localhost:8080/"
        },
        "id": "OJtaBXxaYhzS",
        "outputId": "0921513f-17da-4b09-c357-cb519ed7ad81"
      },
      "source": [
        "x = 0.125\n",
        "x.as_integer_ratio()"
      ],
      "execution_count": 32,
      "outputs": [
        {
          "output_type": "execute_result",
          "data": {
            "text/plain": [
              "(1, 8)"
            ]
          },
          "metadata": {},
          "execution_count": 32
        }
      ]
    },
    {
      "cell_type": "code",
      "metadata": {
        "colab": {
          "base_uri": "https://localhost:8080/"
        },
        "id": "KPj2gfciYl5h",
        "outputId": "f110bb59-1093-4edd-af91-9e539030ad52"
      },
      "source": [
        "numerator, denominator = x.as_integer_ratio()\n",
        "print(numerator / denominator)"
      ],
      "execution_count": 33,
      "outputs": [
        {
          "output_type": "stream",
          "name": "stdout",
          "text": [
            "0.125\n"
          ]
        }
      ]
    },
    {
      "cell_type": "code",
      "metadata": {
        "colab": {
          "base_uri": "https://localhost:8080/"
        },
        "id": "U0KPLpM1Yoer",
        "outputId": "e2e6e78c-bd9e-489a-a1a8-02624b09a26e"
      },
      "source": [
        "a = 1\n",
        "b = 0\n",
        "a, b = b, a\n",
        "print(a, b)"
      ],
      "execution_count": 34,
      "outputs": [
        {
          "output_type": "stream",
          "name": "stdout",
          "text": [
            "0 1\n"
          ]
        }
      ]
    },
    {
      "cell_type": "code",
      "metadata": {
        "id": "2nSvNYl8YqyH"
      },
      "source": [
        ""
      ],
      "execution_count": null,
      "outputs": []
    }
  ]
}